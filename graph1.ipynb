{
 "cells": [
  {
   "cell_type": "code",
   "execution_count": 33,
   "id": "fe85cb6a",
   "metadata": {},
   "outputs": [],
   "source": [
    "#pip install --upgrade langchain langgraph langsmith langchain_groq langchain_community httpx\n"
   ]
  },
  {
   "cell_type": "code",
   "execution_count": 19,
   "id": "2dde1ffd",
   "metadata": {},
   "outputs": [],
   "source": [
    "groq_api_key = \"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\""
   ]
  },
  {
   "cell_type": "code",
   "execution_count": 20,
   "id": "3ed2b899",
   "metadata": {},
   "outputs": [],
   "source": [
    "\n",
    "from langchain_groq import ChatGroq\n"
   ]
  },
  {
   "cell_type": "code",
   "execution_count": 21,
   "id": "f68ce391",
   "metadata": {},
   "outputs": [],
   "source": [
    "llm = ChatGroq(groq_api_key = groq_api_key, model_name = \"Gemma2-9b-it\")"
   ]
  },
  {
   "cell_type": "code",
   "execution_count": 22,
   "id": "b588af0f",
   "metadata": {},
   "outputs": [],
   "source": [
    "\n",
    "from typing import Annotated\n",
    "from typing_extensions import TypedDict\n",
    "from langgraph.graph.message import add_messages\n",
    "from langgraph.graph import StateGraph,START,END "
   ]
  },
  {
   "cell_type": "code",
   "execution_count": 23,
   "id": "e002b13d",
   "metadata": {},
   "outputs": [],
   "source": [
    "class State(TypedDict):\n",
    "    messages:Annotated[list,add_messages] \n",
    "    \n",
    "graph_builder=StateGraph(State)"
   ]
  },
  {
   "cell_type": "code",
   "execution_count": 24,
   "id": "1754f7d7",
   "metadata": {},
   "outputs": [
    {
     "data": {
      "text/plain": [
       "<langgraph.graph.state.StateGraph at 0x1c483749d20>"
      ]
     },
     "execution_count": 24,
     "metadata": {},
     "output_type": "execute_result"
    }
   ],
   "source": [
    "graph_builder\n"
   ]
  },
  {
   "cell_type": "code",
   "execution_count": 25,
   "id": "e73ebe6c",
   "metadata": {},
   "outputs": [],
   "source": [
    "def chatbot(state:State):\n",
    "    return{\"messages\":llm.invoke(state['messages'])}"
   ]
  },
  {
   "cell_type": "code",
   "execution_count": 26,
   "id": "cdbd197e",
   "metadata": {},
   "outputs": [
    {
     "data": {
      "text/plain": [
       "<langgraph.graph.state.StateGraph at 0x1c483749d20>"
      ]
     },
     "execution_count": 26,
     "metadata": {},
     "output_type": "execute_result"
    }
   ],
   "source": [
    "graph_builder.add_node('chatbot',chatbot)"
   ]
  },
  {
   "cell_type": "code",
   "execution_count": 27,
   "id": "1035c6d6",
   "metadata": {},
   "outputs": [
    {
     "data": {
      "text/plain": [
       "<langgraph.graph.state.StateGraph at 0x1c483749d20>"
      ]
     },
     "execution_count": 27,
     "metadata": {},
     "output_type": "execute_result"
    }
   ],
   "source": [
    "graph_builder"
   ]
  },
  {
   "cell_type": "code",
   "execution_count": 28,
   "id": "8be17ed8",
   "metadata": {},
   "outputs": [
    {
     "data": {
      "text/plain": [
       "<langgraph.graph.state.StateGraph at 0x1c483749d20>"
      ]
     },
     "execution_count": 28,
     "metadata": {},
     "output_type": "execute_result"
    }
   ],
   "source": [
    "\n",
    "graph_builder.add_edge(START, 'chatbot')\n",
    "graph_builder.add_edge('chatbot', END)"
   ]
  },
  {
   "cell_type": "code",
   "execution_count": 29,
   "id": "055b9419",
   "metadata": {},
   "outputs": [
    {
     "data": {
      "image/png": "[encoded data removed]",
      "text/plain": [
       "<langgraph.graph.state.CompiledStateGraph object at 0x000001C4836F3F10>"
      ]
     },
     "execution_count": 29,
     "metadata": {},
     "output_type": "execute_result"
    }
   ],
   "source": [
    "graph_builder.compile()"
   ]
  },
  {
   "cell_type": "code",
   "execution_count": 30,
   "id": "8d072b57",
   "metadata": {},
   "outputs": [],
   "source": [
    "\n",
    "graph = graph_builder.compile()"
   ]
  },
  {
   "cell_type": "code",
   "execution_count": 32,
   "id": "604c5f65",
   "metadata": {},
   "outputs": [
    {
     "name": "stdout",
     "output_type": "stream",
     "text": [
      "dict_values([{'messages': AIMessage(content=\"## Generative AI Job Marketing in 2025: A Crystal Ball Look\\n\\nThe world of job marketing in 2025 will be drastically different thanks to generative AI.  Here's a glimpse into how this technology will reshape the landscape:\\n\\n**1. Hyper-Personalized Candidate Experiences:**\\n\\n* **AI-Powered Resume Screening:**  Forget generic keyword matching. AI will analyze resumes for skills, personality traits, and even cultural fit, delivering a personalized shortlist to recruiters.\\n* **Dynamic Job Descriptions:**  Job descriptions will adapt to individual candidates based on their profile and interests, highlighting relevant aspects and showcasing company culture in a compelling way. \\n* **AI-Generated Interview Prep:**  Imagine personalized mock interviews and feedback, powered by AI, helping candidates ace their interviews.\\n\\n**2. Streamlined Recruitment Processes:**\\n\\n* **Automated Candidate Sourcing:**  AI will scour the web, social media, and internal databases to identify and engage with potential candidates, saving recruiters valuable time.\\n* **Chatbots for Initial Screening:**  AI-powered chatbots will handle initial candidate interactions, answering frequently asked questions and scheduling interviews, freeing up recruiters for more strategic tasks.\\n* **Predictive Analytics for Hiring:**  AI will analyze data to predict candidate success, helping recruiters make more informed hiring decisions and reduce turnover.\\n\\n**3. Enhanced Employer Branding:**\\n\\n* **AI-Generated Content for Careers Pages:**  Compelling storytelling and engaging visuals will be leveraged by AI to create dynamic careers pages that attract top talent.\\n* **Personalized Candidate Communication:**  AI will craft personalized emails, messages, and even video greetings, making candidates feel valued and appreciated throughout the recruitment process.\\n* **Social Media Talent Acquisition:**  AI will analyze social media trends and conversations to identify potential candidates and tailor messaging to resonate with specific talent pools.\\n\\n**4. Ethical Considerations and the Human Touch:**\\n\\nWhile AI will undoubtedly revolutionize job marketing, it's crucial to remember the importance of human connection. \\n\\n* **Transparency and Explainability:**  AI algorithms should be transparent and explainable to ensure fairness and prevent bias.\\n* **Data Privacy and Security:**  Protecting candidate data is paramount. Robust security measures and ethical data handling practices are essential.\\n* **Human Oversight and Empathy:**  AI should augment, not replace, human interaction. Recruiters will still play a vital role in building relationships, understanding candidate needs, and providing support throughout the hiring process.\\n\\n\\nIn 2025, generative AI will empower job marketers to create more personalized, efficient, and engaging experiences for candidates. However, the human touch will remain crucial for building trust, fostering relationships, and ensuring ethical and responsible practices. \\n\", additional_kwargs={}, response_metadata={'token_usage': {'completion_tokens': 555, 'prompt_tokens': 20, 'total_tokens': 575, 'completion_time': 1.009090909, 'prompt_time': 0.002001727, 'queue_time': 0.25086227299999997, 'total_time': 1.011092636}, 'model_name': 'Gemma2-9b-it', 'system_fingerprint': 'fp_10c08bf97d', 'finish_reason': 'stop', 'logprobs': None}, id='run--5af20204-dcec-48d6-9746-32f3fddf7a16-0', usage_metadata={'input_tokens': 20, 'output_tokens': 555, 'total_tokens': 575})}])\n",
      "content=\"## Generative AI Job Marketing in 2025: A Crystal Ball Look\\n\\nThe world of job marketing in 2025 will be drastically different thanks to generative AI.  Here's a glimpse into how this technology will reshape the landscape:\\n\\n**1. Hyper-Personalized Candidate Experiences:**\\n\\n* **AI-Powered Resume Screening:**  Forget generic keyword matching. AI will analyze resumes for skills, personality traits, and even cultural fit, delivering a personalized shortlist to recruiters.\\n* **Dynamic Job Descriptions:**  Job descriptions will adapt to individual candidates based on their profile and interests, highlighting relevant aspects and showcasing company culture in a compelling way. \\n* **AI-Generated Interview Prep:**  Imagine personalized mock interviews and feedback, powered by AI, helping candidates ace their interviews.\\n\\n**2. Streamlined Recruitment Processes:**\\n\\n* **Automated Candidate Sourcing:**  AI will scour the web, social media, and internal databases to identify and engage with potential candidates, saving recruiters valuable time.\\n* **Chatbots for Initial Screening:**  AI-powered chatbots will handle initial candidate interactions, answering frequently asked questions and scheduling interviews, freeing up recruiters for more strategic tasks.\\n* **Predictive Analytics for Hiring:**  AI will analyze data to predict candidate success, helping recruiters make more informed hiring decisions and reduce turnover.\\n\\n**3. Enhanced Employer Branding:**\\n\\n* **AI-Generated Content for Careers Pages:**  Compelling storytelling and engaging visuals will be leveraged by AI to create dynamic careers pages that attract top talent.\\n* **Personalized Candidate Communication:**  AI will craft personalized emails, messages, and even video greetings, making candidates feel valued and appreciated throughout the recruitment process.\\n* **Social Media Talent Acquisition:**  AI will analyze social media trends and conversations to identify potential candidates and tailor messaging to resonate with specific talent pools.\\n\\n**4. Ethical Considerations and the Human Touch:**\\n\\nWhile AI will undoubtedly revolutionize job marketing, it's crucial to remember the importance of human connection. \\n\\n* **Transparency and Explainability:**  AI algorithms should be transparent and explainable to ensure fairness and prevent bias.\\n* **Data Privacy and Security:**  Protecting candidate data is paramount. Robust security measures and ethical data handling practices are essential.\\n* **Human Oversight and Empathy:**  AI should augment, not replace, human interaction. Recruiters will still play a vital role in building relationships, understanding candidate needs, and providing support throughout the hiring process.\\n\\n\\nIn 2025, generative AI will empower job marketers to create more personalized, efficient, and engaging experiences for candidates. However, the human touch will remain crucial for building trust, fostering relationships, and ensuring ethical and responsible practices. \\n\" additional_kwargs={} response_metadata={'token_usage': {'completion_tokens': 555, 'prompt_tokens': 20, 'total_tokens': 575, 'completion_time': 1.009090909, 'prompt_time': 0.002001727, 'queue_time': 0.25086227299999997, 'total_time': 1.011092636}, 'model_name': 'Gemma2-9b-it', 'system_fingerprint': 'fp_10c08bf97d', 'finish_reason': 'stop', 'logprobs': None} id='run--5af20204-dcec-48d6-9746-32f3fddf7a16-0' usage_metadata={'input_tokens': 20, 'output_tokens': 555, 'total_tokens': 575}\n",
      "Assistant: ## Generative AI Job Marketing in 2025: A Crystal Ball Look\n",
      "\n",
      "The world of job marketing in 2025 will be drastically different thanks to generative AI.  Here's a glimpse into how this technology will reshape the landscape:\n",
      "\n",
      "**1. Hyper-Personalized Candidate Experiences:**\n",
      "\n",
      "* **AI-Powered Resume Screening:**  Forget generic keyword matching. AI will analyze resumes for skills, personality traits, and even cultural fit, delivering a personalized shortlist to recruiters.\n",
      "* **Dynamic Job Descriptions:**  Job descriptions will adapt to individual candidates based on their profile and interests, highlighting relevant aspects and showcasing company culture in a compelling way. \n",
      "* **AI-Generated Interview Prep:**  Imagine personalized mock interviews and feedback, powered by AI, helping candidates ace their interviews.\n",
      "\n",
      "**2. Streamlined Recruitment Processes:**\n",
      "\n",
      "* **Automated Candidate Sourcing:**  AI will scour the web, social media, and internal databases to identify and engage with potential candidates, saving recruiters valuable time.\n",
      "* **Chatbots for Initial Screening:**  AI-powered chatbots will handle initial candidate interactions, answering frequently asked questions and scheduling interviews, freeing up recruiters for more strategic tasks.\n",
      "* **Predictive Analytics for Hiring:**  AI will analyze data to predict candidate success, helping recruiters make more informed hiring decisions and reduce turnover.\n",
      "\n",
      "**3. Enhanced Employer Branding:**\n",
      "\n",
      "* **AI-Generated Content for Careers Pages:**  Compelling storytelling and engaging visuals will be leveraged by AI to create dynamic careers pages that attract top talent.\n",
      "* **Personalized Candidate Communication:**  AI will craft personalized emails, messages, and even video greetings, making candidates feel valued and appreciated throughout the recruitment process.\n",
      "* **Social Media Talent Acquisition:**  AI will analyze social media trends and conversations to identify potential candidates and tailor messaging to resonate with specific talent pools.\n",
      "\n",
      "**4. Ethical Considerations and the Human Touch:**\n",
      "\n",
      "While AI will undoubtedly revolutionize job marketing, it's crucial to remember the importance of human connection. \n",
      "\n",
      "* **Transparency and Explainability:**  AI algorithms should be transparent and explainable to ensure fairness and prevent bias.\n",
      "* **Data Privacy and Security:**  Protecting candidate data is paramount. Robust security measures and ethical data handling practices are essential.\n",
      "* **Human Oversight and Empathy:**  AI should augment, not replace, human interaction. Recruiters will still play a vital role in building relationships, understanding candidate needs, and providing support throughout the hiring process.\n",
      "\n",
      "\n",
      "In 2025, generative AI will empower job marketers to create more personalized, efficient, and engaging experiences for candidates. However, the human touch will remain crucial for building trust, fostering relationships, and ensuring ethical and responsible practices. \n",
      "\n",
      "dict_values([{'messages': AIMessage(content='Please provide me with a question or task so I can assist you. 😊 \\n\\nFor example, you could ask me to:\\n\\n* **Answer a question:** \"What is the capital of France?\"\\n* **Generate creative content:** \"Write a short poem about a robot\"\\n* **Summarize text:** \"Summarize the plot of the movie Inception\"\\n* **Translate languages:** \"Translate \\'hello world\\' into Spanish\"\\n* **Provide information:** \"What are the main causes of climate change?\"\\n\\nI\\'m ready for anything! ✨ \\n\\n', additional_kwargs={}, response_metadata={'token_usage': {'completion_tokens': 120, 'prompt_tokens': 11, 'total_tokens': 131, 'completion_time': 0.218181818, 'prompt_time': 0.001915306, 'queue_time': 0.245428233, 'total_time': 0.220097124}, 'model_name': 'Gemma2-9b-it', 'system_fingerprint': 'fp_10c08bf97d', 'finish_reason': 'stop', 'logprobs': None}, id='run--bb7bb4fa-af82-4cb1-aa4d-38f12afc9fba-0', usage_metadata={'input_tokens': 11, 'output_tokens': 120, 'total_tokens': 131})}])\n",
      "content='Please provide me with a question or task so I can assist you. 😊 \\n\\nFor example, you could ask me to:\\n\\n* **Answer a question:** \"What is the capital of France?\"\\n* **Generate creative content:** \"Write a short poem about a robot\"\\n* **Summarize text:** \"Summarize the plot of the movie Inception\"\\n* **Translate languages:** \"Translate \\'hello world\\' into Spanish\"\\n* **Provide information:** \"What are the main causes of climate change?\"\\n\\nI\\'m ready for anything! ✨ \\n\\n' additional_kwargs={} response_metadata={'token_usage': {'completion_tokens': 120, 'prompt_tokens': 11, 'total_tokens': 131, 'completion_time': 0.218181818, 'prompt_time': 0.001915306, 'queue_time': 0.245428233, 'total_time': 0.220097124}, 'model_name': 'Gemma2-9b-it', 'system_fingerprint': 'fp_10c08bf97d', 'finish_reason': 'stop', 'logprobs': None} id='run--bb7bb4fa-af82-4cb1-aa4d-38f12afc9fba-0' usage_metadata={'input_tokens': 11, 'output_tokens': 120, 'total_tokens': 131}\n",
      "Assistant: Please provide me with a question or task so I can assist you. 😊 \n",
      "\n",
      "For example, you could ask me to:\n",
      "\n",
      "* **Answer a question:** \"What is the capital of France?\"\n",
      "* **Generate creative content:** \"Write a short poem about a robot\"\n",
      "* **Summarize text:** \"Summarize the plot of the movie Inception\"\n",
      "* **Translate languages:** \"Translate 'hello world' into Spanish\"\n",
      "* **Provide information:** \"What are the main causes of climate change?\"\n",
      "\n",
      "I'm ready for anything! ✨ \n",
      "\n",
      "\n",
      "dict_values([{'messages': AIMessage(content=\"Please provide me with the context or the prompt for which you need help. I need to understand what you want me to do before I can assist you. \\n\\nFor example, do you want me to:\\n\\n* **Write something?** (e.g., a story, a poem, an email)\\n* **Answer a question?** (e.g., about history, science, or pop culture)\\n* **Summarize text?**\\n* **Translate something?**\\n* **Generate code?**\\n* **Something else?**\\n\\n\\nLet me know, and I'll be happy to help! \\n\\n\", additional_kwargs={}, response_metadata={'token_usage': {'completion_tokens': 133, 'prompt_tokens': 11, 'total_tokens': 144, 'completion_time': 0.241818182, 'prompt_time': 0.001924536, 'queue_time': 0.246555255, 'total_time': 0.243742718}, 'model_name': 'Gemma2-9b-it', 'system_fingerprint': 'fp_10c08bf97d', 'finish_reason': 'stop', 'logprobs': None}, id='run--3fd207dd-d0dc-4bcb-aba9-b6705a2ed505-0', usage_metadata={'input_tokens': 11, 'output_tokens': 133, 'total_tokens': 144})}])\n",
      "content=\"Please provide me with the context or the prompt for which you need help. I need to understand what you want me to do before I can assist you. \\n\\nFor example, do you want me to:\\n\\n* **Write something?** (e.g., a story, a poem, an email)\\n* **Answer a question?** (e.g., about history, science, or pop culture)\\n* **Summarize text?**\\n* **Translate something?**\\n* **Generate code?**\\n* **Something else?**\\n\\n\\nLet me know, and I'll be happy to help! \\n\\n\" additional_kwargs={} response_metadata={'token_usage': {'completion_tokens': 133, 'prompt_tokens': 11, 'total_tokens': 144, 'completion_time': 0.241818182, 'prompt_time': 0.001924536, 'queue_time': 0.246555255, 'total_time': 0.243742718}, 'model_name': 'Gemma2-9b-it', 'system_fingerprint': 'fp_10c08bf97d', 'finish_reason': 'stop', 'logprobs': None} id='run--3fd207dd-d0dc-4bcb-aba9-b6705a2ed505-0' usage_metadata={'input_tokens': 11, 'output_tokens': 133, 'total_tokens': 144}\n",
      "Assistant: Please provide me with the context or the prompt for which you need help. I need to understand what you want me to do before I can assist you. \n",
      "\n",
      "For example, do you want me to:\n",
      "\n",
      "* **Write something?** (e.g., a story, a poem, an email)\n",
      "* **Answer a question?** (e.g., about history, science, or pop culture)\n",
      "* **Summarize text?**\n",
      "* **Translate something?**\n",
      "* **Generate code?**\n",
      "* **Something else?**\n",
      "\n",
      "\n",
      "Let me know, and I'll be happy to help! \n",
      "\n",
      "\n",
      "dict_values([{'messages': AIMessage(content=\"Predicting the job market in 2025 is always a challenge, but here's a breakdown of what we can reasonably expect regarding generative AI:\\n\\n**Increased Demand:**\\n\\n* **AI Specialists:**  Roles like AI Trainers, Prompt Engineers, AI Ethics Specialists, and MLOps Engineers will be in high demand. These professionals will be needed to develop, fine-tune, deploy, and maintain generative AI models.\\n* **Data Scientists & Analysts:**  Generative AI relies heavily on data.  Data scientists and analysts will be crucial for preparing, cleaning, and interpreting the massive datasets used to train these models.\\n* **Content Creators:**  While some fear AI will replace writers, designers, and artists, the reality is more likely to be augmentation.  These professionals will need to adapt and learn to leverage generative AI tools to enhance their creativity and efficiency.\\n\\n**New Job Roles:**\\n\\n* **AI Prompt Engineer:**  This emerging role focuses on crafting effective prompts to elicit desired outputs from generative AI models.\\n* **AI Trainer:**  These specialists will work on fine-tuning pre-existing models for specific tasks or industries.\\n* **AI Safety & Ethics Officer:**  As AI becomes more powerful, ensuring responsible and ethical development and deployment will be paramount.  \\n\\n**Disruption and Evolution:**\\n\\n* **Automation:**  Certain repetitive tasks in industries like customer service, marketing, and software development will be automated by generative AI, leading to job displacement.\\n* **Upskilling and Reskilling:**  Workers will need to adapt and acquire new skills to remain relevant in the changing job market.  \\n\\n**Key Considerations:**\\n\\n* **Ethical Implications:**  The potential biases in training data and the misuse of generative AI for malicious purposes will need to be carefully addressed.\\n* **Regulation:**  Governments and organizations will likely implement regulations to govern the development and deployment of generative AI.\\n* **Accessibility:**  Ensuring that the benefits of generative AI are accessible to everyone, regardless of their technical expertise, will be crucial.\\n\\n**In Conclusion:**\\n\\nThe generative AI job market in 2025 is poised for significant growth and disruption. While some jobs will be lost, many new opportunities will emerge. The key to success will be adaptability, a willingness to learn new skills, and a focus on ethical and responsible AI development.\\n\", additional_kwargs={}, response_metadata={'token_usage': {'completion_tokens': 483, 'prompt_tokens': 20, 'total_tokens': 503, 'completion_time': 0.878181818, 'prompt_time': 0.001918516, 'queue_time': 0.245082744, 'total_time': 0.880100334}, 'model_name': 'Gemma2-9b-it', 'system_fingerprint': 'fp_10c08bf97d', 'finish_reason': 'stop', 'logprobs': None}, id='run--110deefe-7d3b-45f3-aef4-c37cc75e5c47-0', usage_metadata={'input_tokens': 20, 'output_tokens': 483, 'total_tokens': 503})}])\n",
      "content=\"Predicting the job market in 2025 is always a challenge, but here's a breakdown of what we can reasonably expect regarding generative AI:\\n\\n**Increased Demand:**\\n\\n* **AI Specialists:**  Roles like AI Trainers, Prompt Engineers, AI Ethics Specialists, and MLOps Engineers will be in high demand. These professionals will be needed to develop, fine-tune, deploy, and maintain generative AI models.\\n* **Data Scientists & Analysts:**  Generative AI relies heavily on data.  Data scientists and analysts will be crucial for preparing, cleaning, and interpreting the massive datasets used to train these models.\\n* **Content Creators:**  While some fear AI will replace writers, designers, and artists, the reality is more likely to be augmentation.  These professionals will need to adapt and learn to leverage generative AI tools to enhance their creativity and efficiency.\\n\\n**New Job Roles:**\\n\\n* **AI Prompt Engineer:**  This emerging role focuses on crafting effective prompts to elicit desired outputs from generative AI models.\\n* **AI Trainer:**  These specialists will work on fine-tuning pre-existing models for specific tasks or industries.\\n* **AI Safety & Ethics Officer:**  As AI becomes more powerful, ensuring responsible and ethical development and deployment will be paramount.  \\n\\n**Disruption and Evolution:**\\n\\n* **Automation:**  Certain repetitive tasks in industries like customer service, marketing, and software development will be automated by generative AI, leading to job displacement.\\n* **Upskilling and Reskilling:**  Workers will need to adapt and acquire new skills to remain relevant in the changing job market.  \\n\\n**Key Considerations:**\\n\\n* **Ethical Implications:**  The potential biases in training data and the misuse of generative AI for malicious purposes will need to be carefully addressed.\\n* **Regulation:**  Governments and organizations will likely implement regulations to govern the development and deployment of generative AI.\\n* **Accessibility:**  Ensuring that the benefits of generative AI are accessible to everyone, regardless of their technical expertise, will be crucial.\\n\\n**In Conclusion:**\\n\\nThe generative AI job market in 2025 is poised for significant growth and disruption. While some jobs will be lost, many new opportunities will emerge. The key to success will be adaptability, a willingness to learn new skills, and a focus on ethical and responsible AI development.\\n\" additional_kwargs={} response_metadata={'token_usage': {'completion_tokens': 483, 'prompt_tokens': 20, 'total_tokens': 503, 'completion_time': 0.878181818, 'prompt_time': 0.001918516, 'queue_time': 0.245082744, 'total_time': 0.880100334}, 'model_name': 'Gemma2-9b-it', 'system_fingerprint': 'fp_10c08bf97d', 'finish_reason': 'stop', 'logprobs': None} id='run--110deefe-7d3b-45f3-aef4-c37cc75e5c47-0' usage_metadata={'input_tokens': 20, 'output_tokens': 483, 'total_tokens': 503}\n",
      "Assistant: Predicting the job market in 2025 is always a challenge, but here's a breakdown of what we can reasonably expect regarding generative AI:\n",
      "\n",
      "**Increased Demand:**\n",
      "\n",
      "* **AI Specialists:**  Roles like AI Trainers, Prompt Engineers, AI Ethics Specialists, and MLOps Engineers will be in high demand. These professionals will be needed to develop, fine-tune, deploy, and maintain generative AI models.\n",
      "* **Data Scientists & Analysts:**  Generative AI relies heavily on data.  Data scientists and analysts will be crucial for preparing, cleaning, and interpreting the massive datasets used to train these models.\n",
      "* **Content Creators:**  While some fear AI will replace writers, designers, and artists, the reality is more likely to be augmentation.  These professionals will need to adapt and learn to leverage generative AI tools to enhance their creativity and efficiency.\n",
      "\n",
      "**New Job Roles:**\n",
      "\n",
      "* **AI Prompt Engineer:**  This emerging role focuses on crafting effective prompts to elicit desired outputs from generative AI models.\n",
      "* **AI Trainer:**  These specialists will work on fine-tuning pre-existing models for specific tasks or industries.\n",
      "* **AI Safety & Ethics Officer:**  As AI becomes more powerful, ensuring responsible and ethical development and deployment will be paramount.  \n",
      "\n",
      "**Disruption and Evolution:**\n",
      "\n",
      "* **Automation:**  Certain repetitive tasks in industries like customer service, marketing, and software development will be automated by generative AI, leading to job displacement.\n",
      "* **Upskilling and Reskilling:**  Workers will need to adapt and acquire new skills to remain relevant in the changing job market.  \n",
      "\n",
      "**Key Considerations:**\n",
      "\n",
      "* **Ethical Implications:**  The potential biases in training data and the misuse of generative AI for malicious purposes will need to be carefully addressed.\n",
      "* **Regulation:**  Governments and organizations will likely implement regulations to govern the development and deployment of generative AI.\n",
      "* **Accessibility:**  Ensuring that the benefits of generative AI are accessible to everyone, regardless of their technical expertise, will be crucial.\n",
      "\n",
      "**In Conclusion:**\n",
      "\n",
      "The generative AI job market in 2025 is poised for significant growth and disruption. While some jobs will be lost, many new opportunities will emerge. The key to success will be adaptability, a willingness to learn new skills, and a focus on ethical and responsible AI development.\n",
      "\n",
      "dict_values([{'messages': AIMessage(content=\"Please provide me with the text you want me to summarize. I'm ready! 😊  \\n\\n\", additional_kwargs={}, response_metadata={'token_usage': {'completion_tokens': 23, 'prompt_tokens': 11, 'total_tokens': 34, 'completion_time': 0.041818182, 'prompt_time': 0.001927136, 'queue_time': 0.246734362, 'total_time': 0.043745318}, 'model_name': 'Gemma2-9b-it', 'system_fingerprint': 'fp_10c08bf97d', 'finish_reason': 'stop', 'logprobs': None}, id='run--2b939c33-0691-4b21-9178-86560a139a6d-0', usage_metadata={'input_tokens': 11, 'output_tokens': 23, 'total_tokens': 34})}])\n",
      "content=\"Please provide me with the text you want me to summarize. I'm ready! 😊  \\n\\n\" additional_kwargs={} response_metadata={'token_usage': {'completion_tokens': 23, 'prompt_tokens': 11, 'total_tokens': 34, 'completion_time': 0.041818182, 'prompt_time': 0.001927136, 'queue_time': 0.246734362, 'total_time': 0.043745318}, 'model_name': 'Gemma2-9b-it', 'system_fingerprint': 'fp_10c08bf97d', 'finish_reason': 'stop', 'logprobs': None} id='run--2b939c33-0691-4b21-9178-86560a139a6d-0' usage_metadata={'input_tokens': 11, 'output_tokens': 23, 'total_tokens': 34}\n",
      "Assistant: Please provide me with the text you want me to summarize. I'm ready! 😊  \n",
      "\n",
      "\n",
      "dict_values([{'messages': AIMessage(content='Please provide me with some context or a question! I need to know what you want me to do. For example, you could ask me to:\\n\\n* **Write a story:** \"Write a short story about a cat who goes on an adventure.\"\\n* **Answer a question:** \"What is the capital of France?\"\\n* **Translate something:** \"Translate \\'Hello, world!\\' into Spanish.\"\\n* **Summarize text:** \"Summarize the plot of the novel *Pride and Prejudice*.\"\\n* **Generate creative content:** \"Write a poem about the ocean.\"\\n\\n\\nLet me know what you have in mind! 😊 \\n', additional_kwargs={}, response_metadata={'token_usage': {'completion_tokens': 133, 'prompt_tokens': 11, 'total_tokens': 144, 'completion_time': 0.241818182, 'prompt_time': 0.001930467, 'queue_time': 0.249033532, 'total_time': 0.243748649}, 'model_name': 'Gemma2-9b-it', 'system_fingerprint': 'fp_10c08bf97d', 'finish_reason': 'stop', 'logprobs': None}, id='run--b7f5782e-8692-4aa1-87e5-5eb5376a2cd4-0', usage_metadata={'input_tokens': 11, 'output_tokens': 133, 'total_tokens': 144})}])\n",
      "content='Please provide me with some context or a question! I need to know what you want me to do. For example, you could ask me to:\\n\\n* **Write a story:** \"Write a short story about a cat who goes on an adventure.\"\\n* **Answer a question:** \"What is the capital of France?\"\\n* **Translate something:** \"Translate \\'Hello, world!\\' into Spanish.\"\\n* **Summarize text:** \"Summarize the plot of the novel *Pride and Prejudice*.\"\\n* **Generate creative content:** \"Write a poem about the ocean.\"\\n\\n\\nLet me know what you have in mind! 😊 \\n' additional_kwargs={} response_metadata={'token_usage': {'completion_tokens': 133, 'prompt_tokens': 11, 'total_tokens': 144, 'completion_time': 0.241818182, 'prompt_time': 0.001930467, 'queue_time': 0.249033532, 'total_time': 0.243748649}, 'model_name': 'Gemma2-9b-it', 'system_fingerprint': 'fp_10c08bf97d', 'finish_reason': 'stop', 'logprobs': None} id='run--b7f5782e-8692-4aa1-87e5-5eb5376a2cd4-0' usage_metadata={'input_tokens': 11, 'output_tokens': 133, 'total_tokens': 144}\n",
      "Assistant: Please provide me with some context or a question! I need to know what you want me to do. For example, you could ask me to:\n",
      "\n",
      "* **Write a story:** \"Write a short story about a cat who goes on an adventure.\"\n",
      "* **Answer a question:** \"What is the capital of France?\"\n",
      "* **Translate something:** \"Translate 'Hello, world!' into Spanish.\"\n",
      "* **Summarize text:** \"Summarize the plot of the novel *Pride and Prejudice*.\"\n",
      "* **Generate creative content:** \"Write a poem about the ocean.\"\n",
      "\n",
      "\n",
      "Let me know what you have in mind! 😊 \n",
      "\n",
      "dict_values([{'messages': AIMessage(content='Please provide me with a prompt or question so I can assist you. 😊 \\n\\nFor example, you could ask me:\\n\\n* **To write a story:** \"Write a short story about a robot who learns to feel emotions.\"\\n* **To answer a question:** \"What is the capital of France?\"\\n* **To summarize text:** \"Summarize the plot of the novel Pride and Prejudice.\"\\n* **To translate language:** \"Translate \\'Hello, how are you?\\' into Spanish.\"\\n\\n\\nI\\'m ready for anything! \\n', additional_kwargs={}, response_metadata={'token_usage': {'completion_tokens': 113, 'prompt_tokens': 11, 'total_tokens': 124, 'completion_time': 0.205454545, 'prompt_time': 0.001930977, 'queue_time': 0.241455733, 'total_time': 0.207385522}, 'model_name': 'Gemma2-9b-it', 'system_fingerprint': 'fp_10c08bf97d', 'finish_reason': 'stop', 'logprobs': None}, id='run--46191c56-a970-4ec1-a023-b3da8de7b244-0', usage_metadata={'input_tokens': 11, 'output_tokens': 113, 'total_tokens': 124})}])\n",
      "content='Please provide me with a prompt or question so I can assist you. 😊 \\n\\nFor example, you could ask me:\\n\\n* **To write a story:** \"Write a short story about a robot who learns to feel emotions.\"\\n* **To answer a question:** \"What is the capital of France?\"\\n* **To summarize text:** \"Summarize the plot of the novel Pride and Prejudice.\"\\n* **To translate language:** \"Translate \\'Hello, how are you?\\' into Spanish.\"\\n\\n\\nI\\'m ready for anything! \\n' additional_kwargs={} response_metadata={'token_usage': {'completion_tokens': 113, 'prompt_tokens': 11, 'total_tokens': 124, 'completion_time': 0.205454545, 'prompt_time': 0.001930977, 'queue_time': 0.241455733, 'total_time': 0.207385522}, 'model_name': 'Gemma2-9b-it', 'system_fingerprint': 'fp_10c08bf97d', 'finish_reason': 'stop', 'logprobs': None} id='run--46191c56-a970-4ec1-a023-b3da8de7b244-0' usage_metadata={'input_tokens': 11, 'output_tokens': 113, 'total_tokens': 124}\n",
      "Assistant: Please provide me with a prompt or question so I can assist you. 😊 \n",
      "\n",
      "For example, you could ask me:\n",
      "\n",
      "* **To write a story:** \"Write a short story about a robot who learns to feel emotions.\"\n",
      "* **To answer a question:** \"What is the capital of France?\"\n",
      "* **To summarize text:** \"Summarize the plot of the novel Pride and Prejudice.\"\n",
      "* **To translate language:** \"Translate 'Hello, how are you?' into Spanish.\"\n",
      "\n",
      "\n",
      "I'm ready for anything! \n",
      "\n",
      "dict_values([{'messages': AIMessage(content='Please provide me with a question or task so I can assist you! 😊 \\n\\nFor example, you could ask me to:\\n\\n* **Answer a question:** \"What is the capital of France?\"\\n* **Generate creative content:** \"Write a short story about a robot who learns to feel emotions.\"\\n* **Translate text:** \"Translate \\'Hello, how are you?\\' into Spanish.\"\\n* **Summarize information:** \"Summarize the main plot points of the novel *Pride and Prejudice*.\"\\n* **Help with coding:** \"Write a Python function to calculate the factorial of a number.\"\\n\\n\\nI\\'m ready for anything! ✨\\n\\n', additional_kwargs={}, response_metadata={'token_usage': {'completion_tokens': 136, 'prompt_tokens': 11, 'total_tokens': 147, 'completion_time': 0.247272727, 'prompt_time': 0.001963556, 'queue_time': 0.24248551399999999, 'total_time': 0.249236283}, 'model_name': 'Gemma2-9b-it', 'system_fingerprint': 'fp_10c08bf97d', 'finish_reason': 'stop', 'logprobs': None}, id='run--80668ed7-9ee0-4217-b6cb-0116458764c7-0', usage_metadata={'input_tokens': 11, 'output_tokens': 136, 'total_tokens': 147})}])\n",
      "content='Please provide me with a question or task so I can assist you! 😊 \\n\\nFor example, you could ask me to:\\n\\n* **Answer a question:** \"What is the capital of France?\"\\n* **Generate creative content:** \"Write a short story about a robot who learns to feel emotions.\"\\n* **Translate text:** \"Translate \\'Hello, how are you?\\' into Spanish.\"\\n* **Summarize information:** \"Summarize the main plot points of the novel *Pride and Prejudice*.\"\\n* **Help with coding:** \"Write a Python function to calculate the factorial of a number.\"\\n\\n\\nI\\'m ready for anything! ✨\\n\\n' additional_kwargs={} response_metadata={'token_usage': {'completion_tokens': 136, 'prompt_tokens': 11, 'total_tokens': 147, 'completion_time': 0.247272727, 'prompt_time': 0.001963556, 'queue_time': 0.24248551399999999, 'total_time': 0.249236283}, 'model_name': 'Gemma2-9b-it', 'system_fingerprint': 'fp_10c08bf97d', 'finish_reason': 'stop', 'logprobs': None} id='run--80668ed7-9ee0-4217-b6cb-0116458764c7-0' usage_metadata={'input_tokens': 11, 'output_tokens': 136, 'total_tokens': 147}\n",
      "Assistant: Please provide me with a question or task so I can assist you! 😊 \n",
      "\n",
      "For example, you could ask me to:\n",
      "\n",
      "* **Answer a question:** \"What is the capital of France?\"\n",
      "* **Generate creative content:** \"Write a short story about a robot who learns to feel emotions.\"\n",
      "* **Translate text:** \"Translate 'Hello, how are you?' into Spanish.\"\n",
      "* **Summarize information:** \"Summarize the main plot points of the novel *Pride and Prejudice*.\"\n",
      "* **Help with coding:** \"Write a Python function to calculate the factorial of a number.\"\n",
      "\n",
      "\n",
      "I'm ready for anything! ✨\n",
      "\n",
      "\n",
      "Good Bye, thank you using LangGrpah Framework create by Akash\n"
     ]
    }
   ],
   "source": [
    "while True:\n",
    "    user_input=input(\"user:\")\n",
    "    if user_input.lower() in ['quit','q']:\n",
    "        print('Good Bye, thank you using LangGrpah Framework create by Akash')\n",
    "        break \n",
    "    for event in graph.stream({'messages':('user', user_input)}):\n",
    "        print(event.values())\n",
    "        for value in event.values():\n",
    "            print(value['messages'])\n",
    "            print('Assistant:',value['messages'].content)"
   ]
  }
 ],
 "metadata": {
  "kernelspec": {
   "display_name": "Python 3",
   "language": "python",
   "name": "python3"
  },
  "language_info": {
   "codemirror_mode": {
    "name": "ipython",
    "version": 3
   },
   "file_extension": ".py",
   "mimetype": "text/x-python",
   "name": "python",
   "nbconvert_exporter": "python",
   "pygments_lexer": "ipython3",
   "version": "3.10.10"
  }
 },
 "nbformat": 4,
 "nbformat_minor": 5
}
